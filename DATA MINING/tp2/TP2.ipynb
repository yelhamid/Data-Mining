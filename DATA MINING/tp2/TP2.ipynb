{
 "cells": [
  {
   "cell_type": "markdown",
   "id": "c0cbcb3e",
   "metadata": {},
   "source": [
    "# TP 2 Data mining\n"
   ]
  },
  {
   "cell_type": "code",
   "execution_count": 4,
   "id": "d7a2850e",
   "metadata": {},
   "outputs": [],
   "source": [
    "import numpy as np\n",
    "import matplotlib.pyplot as plt\n",
    "import pandas as pd\n",
    "import seaborn as sns"
   ]
  },
  {
   "cell_type": "markdown",
   "id": "5c5f2c70",
   "metadata": {},
   "source": [
    "# Importer les données"
   ]
  },
  {
   "cell_type": "code",
   "execution_count": 5,
   "id": "fb62e4fa",
   "metadata": {},
   "outputs": [
    {
     "data": {
      "text/html": [
       "<div>\n",
       "<style scoped>\n",
       "    .dataframe tbody tr th:only-of-type {\n",
       "        vertical-align: middle;\n",
       "    }\n",
       "\n",
       "    .dataframe tbody tr th {\n",
       "        vertical-align: top;\n",
       "    }\n",
       "\n",
       "    .dataframe thead th {\n",
       "        text-align: right;\n",
       "    }\n",
       "</style>\n",
       "<table border=\"1\" class=\"dataframe\">\n",
       "  <thead>\n",
       "    <tr style=\"text-align: right;\">\n",
       "      <th></th>\n",
       "      <th>exam_score_1</th>\n",
       "      <th>exam_score_2</th>\n",
       "      <th>label</th>\n",
       "    </tr>\n",
       "  </thead>\n",
       "  <tbody>\n",
       "    <tr>\n",
       "      <th>0</th>\n",
       "      <td>34.623660</td>\n",
       "      <td>78.024693</td>\n",
       "      <td>0</td>\n",
       "    </tr>\n",
       "    <tr>\n",
       "      <th>1</th>\n",
       "      <td>30.286711</td>\n",
       "      <td>43.894998</td>\n",
       "      <td>0</td>\n",
       "    </tr>\n",
       "    <tr>\n",
       "      <th>2</th>\n",
       "      <td>35.847409</td>\n",
       "      <td>72.902198</td>\n",
       "      <td>0</td>\n",
       "    </tr>\n",
       "    <tr>\n",
       "      <th>3</th>\n",
       "      <td>60.182599</td>\n",
       "      <td>86.308552</td>\n",
       "      <td>1</td>\n",
       "    </tr>\n",
       "    <tr>\n",
       "      <th>4</th>\n",
       "      <td>79.032736</td>\n",
       "      <td>75.344376</td>\n",
       "      <td>1</td>\n",
       "    </tr>\n",
       "    <tr>\n",
       "      <th>...</th>\n",
       "      <td>...</td>\n",
       "      <td>...</td>\n",
       "      <td>...</td>\n",
       "    </tr>\n",
       "    <tr>\n",
       "      <th>95</th>\n",
       "      <td>83.489163</td>\n",
       "      <td>48.380286</td>\n",
       "      <td>1</td>\n",
       "    </tr>\n",
       "    <tr>\n",
       "      <th>96</th>\n",
       "      <td>42.261701</td>\n",
       "      <td>87.103851</td>\n",
       "      <td>1</td>\n",
       "    </tr>\n",
       "    <tr>\n",
       "      <th>97</th>\n",
       "      <td>99.315009</td>\n",
       "      <td>68.775409</td>\n",
       "      <td>1</td>\n",
       "    </tr>\n",
       "    <tr>\n",
       "      <th>98</th>\n",
       "      <td>55.340018</td>\n",
       "      <td>64.931938</td>\n",
       "      <td>1</td>\n",
       "    </tr>\n",
       "    <tr>\n",
       "      <th>99</th>\n",
       "      <td>74.775893</td>\n",
       "      <td>89.529813</td>\n",
       "      <td>1</td>\n",
       "    </tr>\n",
       "  </tbody>\n",
       "</table>\n",
       "<p>100 rows × 3 columns</p>\n",
       "</div>"
      ],
      "text/plain": [
       "    exam_score_1  exam_score_2  label\n",
       "0      34.623660     78.024693      0\n",
       "1      30.286711     43.894998      0\n",
       "2      35.847409     72.902198      0\n",
       "3      60.182599     86.308552      1\n",
       "4      79.032736     75.344376      1\n",
       "..           ...           ...    ...\n",
       "95     83.489163     48.380286      1\n",
       "96     42.261701     87.103851      1\n",
       "97     99.315009     68.775409      1\n",
       "98     55.340018     64.931938      1\n",
       "99     74.775893     89.529813      1\n",
       "\n",
       "[100 rows x 3 columns]"
      ]
     },
     "execution_count": 5,
     "metadata": {},
     "output_type": "execute_result"
    }
   ],
   "source": [
    "dataset = pd.read_csv('TP2 ex2data1.txt',names=[\"exam_score_1\",\"exam_score_2\",\"label\"])\n",
    "dataset"
   ]
  },
  {
   "cell_type": "code",
   "execution_count": 6,
   "id": "d6d32edb",
   "metadata": {},
   "outputs": [],
   "source": [
    "x = dataset.iloc[:,:-1].values\n",
    "y = dataset.iloc[:,-1].values\n",
    "m , n = x.shape"
   ]
  },
  {
   "cell_type": "markdown",
   "id": "101b5e60",
   "metadata": {},
   "source": [
    "# Visualisation des données"
   ]
  },
  {
   "cell_type": "code",
   "execution_count": 7,
   "id": "d9753893",
   "metadata": {},
   "outputs": [
    {
     "data": {
      "image/png": "[encoded data removed]",
      "text/plain": [
       "<Figure size 640x480 with 1 Axes>"
      ]
     },
     "metadata": {},
     "output_type": "display_data"
    }
   ],
   "source": [
    "colors = {0:'yellow', 1:'black'}\n",
    "markers = {0:'o', 1:'+'}\n",
    "fig, ax = plt.subplots()\n",
    "grouped = dataset.groupby('label')\n",
    "for key, group in grouped:\n",
    "    group.plot(ax=ax, kind='scatter', x='exam_score_1', y='exam_score_2', label=key, color=colors[key],marker=markers[key],s=30)\n",
    "    handles, labels = ax.get_legend_handles_labels()\n",
    "    ax.legend(handles[0:], ['Not admitted', 'Admitted'])\n",
    "plt.xlabel('Exam 1 score')\n",
    "plt.ylabel('Exam 2 score')\n",
    "plt.title('Scatter plot of training data')\n",
    "plt.show()"
   ]
  },
  {
   "cell_type": "markdown",
   "id": "e1a13fbd",
   "metadata": {},
   "source": [
    "# Logistic Model"
   ]
  },
  {
   "cell_type": "code",
   "execution_count": 8,
   "id": "221f1e3a",
   "metadata": {},
   "outputs": [],
   "source": [
    "def sigmoid(z):\n",
    "    return 1/(1+np.exp(-z))"
   ]
  },
  {
   "cell_type": "code",
   "execution_count": 9,
   "id": "d75d1386",
   "metadata": {},
   "outputs": [],
   "source": [
    "def model(x,theta):\n",
    "    return np.dot(x,theta)"
   ]
  },
  {
   "cell_type": "code",
   "execution_count": 10,
   "id": "e34f37ce",
   "metadata": {},
   "outputs": [
    {
     "data": {
      "text/plain": [
       "(100, 3)"
      ]
     },
     "execution_count": 10,
     "metadata": {},
     "output_type": "execute_result"
    }
   ],
   "source": [
    "z = np.ones(m)\n",
    "z = z.reshape(m,1)\n",
    "\n",
    "x=np.append(z,x,axis=1)\n",
    "x.shape"
   ]
  },
  {
   "cell_type": "code",
   "execution_count": 11,
   "id": "11f8c2a0",
   "metadata": {},
   "outputs": [],
   "source": [
    "m , n = x.shape\n",
    "theta = np.zeros(n)\n",
    "theta = theta.reshape(n,1)\n",
    "y = y.reshape(-1 ,1)"
   ]
  },
  {
   "cell_type": "markdown",
   "id": "c576fe1b",
   "metadata": {},
   "source": [
    "# Cost Function\n"
   ]
  },
  {
   "cell_type": "code",
   "execution_count": 12,
   "id": "49975bc8",
   "metadata": {},
   "outputs": [],
   "source": [
    "def fonction_cout(theta,x,y):\n",
    "    infunc = -y*(np.log(sigmoid(model(x,theta)))) - (1-y)*(np.log(1 - sigmoid(model(x,theta))))\n",
    "    j = np.sum(infunc)/m\n",
    "    return j"
   ]
  },
  {
   "cell_type": "code",
   "execution_count": 13,
   "id": "368b4a82",
   "metadata": {},
   "outputs": [
    {
     "name": "stdout",
     "output_type": "stream",
     "text": [
      "0.6931471805599453\n"
     ]
    }
   ],
   "source": [
    " J = fonction_cout(theta,x,y)\n",
    " print(J) "
   ]
  },
  {
   "cell_type": "markdown",
   "id": "6e0da6e8",
   "metadata": {},
   "source": [
    "# Gradient Descent"
   ]
  },
  {
   "cell_type": "code",
   "execution_count": 14,
   "id": "ffeff6ca",
   "metadata": {},
   "outputs": [],
   "source": [
    "def grad(x , y , theta):\n",
    "    m = len(y)\n",
    "    return  (1/m) * x.T.dot(sigmoid(model(x,theta))-y)"
   ]
  },
  {
   "cell_type": "code",
   "execution_count": 15,
   "id": "724753c7",
   "metadata": {},
   "outputs": [],
   "source": [
    " def gradientDescent(x , y , theta , alpha , iterations):\n",
    "        j= np.zeros(iterations);\n",
    "        for i in range(0 , iterations):\n",
    "            theta = theta - (alpha) * grad(x,y,theta)\n",
    "            j[i] = fonction_cout(theta,x,y);\n",
    "        return theta , j"
   ]
  },
  {
   "cell_type": "markdown",
   "id": "1ba5cae7",
   "metadata": {},
   "source": [
    "# Machine learning"
   ]
  },
  {
   "cell_type": "code",
   "execution_count": 16,
   "id": "ec6e2492",
   "metadata": {},
   "outputs": [
    {
     "name": "stderr",
     "output_type": "stream",
     "text": [
      "C:\\Users\\lenovo\\AppData\\Local\\Temp\\ipykernel_9776\\1073965880.py:2: RuntimeWarning: divide by zero encountered in log\n",
      "  infunc = -y*(np.log(sigmoid(model(x,theta)))) - (1-y)*(np.log(1 - sigmoid(model(x,theta))))\n",
      "C:\\Users\\lenovo\\AppData\\Local\\Temp\\ipykernel_9776\\1073965880.py:2: RuntimeWarning: invalid value encountered in multiply\n",
      "  infunc = -y*(np.log(sigmoid(model(x,theta)))) - (1-y)*(np.log(1 - sigmoid(model(x,theta))))\n"
     ]
    }
   ],
   "source": [
    "iterations = 200000\n",
    "alpha = 0.01\n",
    "theta_finale, j = gradientDescent(x,y,theta,alpha,iterations)"
   ]
  },
  {
   "cell_type": "code",
   "execution_count": 36,
   "id": "a2c1e38d",
   "metadata": {},
   "outputs": [
    {
     "data": {
      "text/plain": [
       "array([[-59.81043449],\n",
       "       [  0.49797877],\n",
       "       [  0.4908695 ]])"
      ]
     },
     "execution_count": 36,
     "metadata": {},
     "output_type": "execute_result"
    }
   ],
   "source": [
    "theta_finale"
   ]
  },
  {
   "cell_type": "code",
   "execution_count": 18,
   "id": "764d4500",
   "metadata": {},
   "outputs": [
    {
     "data": {
      "text/plain": [
       "0.22213845328403117"
      ]
     },
     "execution_count": 18,
     "metadata": {},
     "output_type": "execute_result"
    }
   ],
   "source": [
    "min(j)"
   ]
  },
  {
   "cell_type": "code",
   "execution_count": 19,
   "id": "763285bd",
   "metadata": {},
   "outputs": [
    {
     "data": {
      "image/png": "[encoded data removed]",
      "text/plain": [
       "<Figure size 640x480 with 1 Axes>"
      ]
     },
     "metadata": {},
     "output_type": "display_data"
    }
   ],
   "source": [
    "h = .02\n",
    "colors = {0:'yellow', 1:'black'}\n",
    "markers = {0:'.', 1:'+'}\n",
    "fig, ax = plt.subplots()\n",
    "grouped = dataset.groupby('label')\n",
    "for key, group in grouped:\n",
    "    group.plot(ax=ax, kind='scatter', x='exam_score_1', y='exam_score_2', label=key, color=colors[key],marker=markers[key],s=40)\n",
    "    handles, labels = ax.get_legend_handles_labels()\n",
    "    ax.legend(handles[0:], ['Not admitted', 'Admitted'])\n",
    "\n",
    "x_min, x_max = x[:, 1].min() - 1, x[:, 1].max() + 1\n",
    "y_min, y_max = x[:, 2].min() - 1, x[:, 2].max() + 1\n",
    "xx, yy = np.meshgrid(np.arange(x_min, x_max, h),\n",
    "                      np.arange(y_min, y_max, h))\n",
    "\n",
    "\n",
    "Z = theta_finale[0]+ theta_finale[1] *np.array(xx)+ theta_finale[2] *np.array(yy)\n",
    "\n",
    "Z = Z.reshape(xx.shape)\n",
    "\n",
    "plt.contour(xx, yy, Z, levels=[0.5], colors='blue')\n",
    "plt.show()\n",
    "\n",
    "\n"
   ]
  },
  {
   "cell_type": "code",
   "execution_count": 31,
   "id": "cee68096",
   "metadata": {},
   "outputs": [],
   "source": [
    "def prediction(x1,x2):\n",
    "    value =  theta_finale[0]+ theta_finale[1] * 45 + theta_finale[2] * 85\n",
    "    pred =  sigmoid(value)\n",
    "    if pred > 0.776:\n",
    "        print(\"Admis\")\n",
    "    else:   \n",
    "        print(\"Non Admis\")\n",
    "    "
   ]
  },
  {
   "cell_type": "code",
   "execution_count": 32,
   "id": "e9f3da6d",
   "metadata": {},
   "outputs": [
    {
     "name": "stdout",
     "output_type": "stream",
     "text": [
      "Admis\n"
     ]
    }
   ],
   "source": [
    "prediction(45,85)"
   ]
  },
  {
   "cell_type": "code",
   "execution_count": 25,
   "id": "cddf1137",
   "metadata": {},
   "outputs": [
    {
     "data": {
      "image/png": "[encoded data removed]",
      "text/plain": [
       "<Figure size 640x480 with 1 Axes>"
      ]
     },
     "metadata": {},
     "output_type": "display_data"
    }
   ],
   "source": [
    "h = .02\n",
    "colors = {0:'yellow', 1:'black'}\n",
    "markers = {0:'.', 1:'+'}\n",
    "fig, ax = plt.subplots()\n",
    "grouped = dataset.groupby('label')\n",
    "for key, group in grouped:\n",
    "    group.plot(ax=ax, kind='scatter', x='exam_score_1', y='exam_score_2', label=key, color=colors[key],marker=markers[key],s=40)\n",
    "    handles, labels = ax.get_legend_handles_labels()\n",
    "    ax.legend(handles[0:], ['Not admitted', 'Admitted'])\n",
    "\n",
    "x_min, x_max = x[:, 1].min() - 1, x[:, 1].max() + 1\n",
    "y_min, y_max = x[:, 2].min() - 1, x[:, 2].max() + 1\n",
    "xx, yy = np.meshgrid(np.arange(x_min, x_max, h),\n",
    "                      np.arange(y_min, y_max, h))\n",
    "\n",
    "\n",
    "Z = theta_finale[0]+ theta_finale[1] *np.array(xx)+ theta_finale[2] *np.array(yy)\n",
    "\n",
    "Z = Z.reshape(xx.shape)\n",
    "\n",
    "plt.contour(xx, yy, Z, levels=[0.5], colors='blue')\n",
    "plt.scatter(45,85,color='r',marker='^')\n",
    "plt.show()\n"
   ]
  },
  {
   "cell_type": "code",
   "execution_count": null,
   "id": "f6bec194",
   "metadata": {},
   "outputs": [],
   "source": []
  },
  {
   "cell_type": "code",
   "execution_count": null,
   "id": "ab43e694",
   "metadata": {},
   "outputs": [],
   "source": []
  },
  {
   "cell_type": "code",
   "execution_count": null,
   "id": "993418bf",
   "metadata": {},
   "outputs": [],
   "source": []
  }
 ],
 "metadata": {
  "kernelspec": {
   "display_name": "Python 3 (ipykernel)",
   "language": "python",
   "name": "python3"
  },
  "language_info": {
   "codemirror_mode": {
    "name": "ipython",
    "version": 3
   },
   "file_extension": ".py",
   "mimetype": "text/x-python",
   "name": "python",
   "nbconvert_exporter": "python",
   "pygments_lexer": "ipython3",
   "version": "3.9.13"
  }
 },
 "nbformat": 4,
 "nbformat_minor": 5
}
