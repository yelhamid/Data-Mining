{
 "cells": [
  {
   "cell_type": "markdown",
   "id": "4fce2faa",
   "metadata": {},
   "source": [
    "# Tp3_partie1"
   ]
  },
  {
   "cell_type": "code",
   "execution_count": 1,
   "id": "b976e2fb",
   "metadata": {},
   "outputs": [],
   "source": [
    "import numpy as np\n",
    "from scipy.io import loadmat\n",
    "import matplotlib.pyplot as plt"
   ]
  },
  {
   "cell_type": "markdown",
   "id": "e90fe7e5",
   "metadata": {},
   "source": [
    "#  Charger de données"
   ]
  },
  {
   "cell_type": "code",
   "execution_count": 2,
   "id": "4792aa90",
   "metadata": {},
   "outputs": [],
   "source": [
    "data=loadmat('TP3 K-means data1.mat')\n",
    "X = data[\"X\"]"
   ]
  },
  {
   "cell_type": "markdown",
   "id": "716b4ce1",
   "metadata": {},
   "source": [
    "#  Sélectionner un ensemble initial de centroïdes"
   ]
  },
  {
   "cell_type": "code",
   "execution_count": 3,
   "id": "009b82d0",
   "metadata": {},
   "outputs": [],
   "source": [
    "K = 3 # 3 Centroids\n",
    "initial_centroids = np.array([[3, 3], [6, 2], [8, 5]])"
   ]
  },
  {
   "cell_type": "markdown",
   "id": "7a15e44a",
   "metadata": {},
   "source": [
    "# Créer une fonction pour trouver les centroïdes les plus proches"
   ]
  },
  {
   "cell_type": "code",
   "execution_count": 5,
   "id": "89bda886",
   "metadata": {},
   "outputs": [
    {
     "name": "stdout",
     "output_type": "stream",
     "text": [
      "Closest centroids for the first 3 examples: \n",
      "\n",
      "[[0]\n",
      " [0]\n",
      " [0]]\n",
      "\n",
      "(The closest centroids should be 0, 2, 1 respectively)\n"
     ]
    }
   ],
   "source": [
    "def findClosestCentroids(X, centroids):\n",
    "\n",
    "    K = centroids.shape[0]\n",
    "    idx = np.zeros((X.shape[0], 1), dtype=np.int8)\n",
    "   \n",
    "    for i in range(X.shape[0]):\n",
    "        distances = np.linalg.norm(X[i] - centroids, axis=1)\n",
    "     \n",
    "\n",
    "        min_dst = np.argmin(distances)\n",
    "        idx[i] = min_dst\n",
    "    \n",
    "    return idx\n",
    "\n",
    "# Trouver les centroïdes les plus proches pour les exemples.\n",
    "\n",
    "idx = findClosestCentroids(X, initial_centroids)\n",
    "\n",
    "print('Closest centroids for the first 3 examples: \\n')\n",
    "print(idx[:3])\n",
    "print('\\n(The closest centroids should be 0, 2, 1 respectively)')"
   ]
  },
  {
   "cell_type": "markdown",
   "id": "5aa754eb",
   "metadata": {},
   "source": [
    "# Computing centroid means"
   ]
  },
  {
   "cell_type": "code",
   "execution_count": 6,
   "id": "86e7767d",
   "metadata": {},
   "outputs": [
    {
     "name": "stdout",
     "output_type": "stream",
     "text": [
      "Centroids computed after initial finding of closest centroids: \n",
      "\n",
      "[[3.48343653 4.67666952]\n",
      " [5.24408518 4.66148767]\n",
      " [5.44433562 6.03683605]]\n",
      "\n",
      "The centroids should be:\n",
      "\n",
      "[ 2.42830111  3.15792418 ]\n",
      "[ 5.81350331  2.63365645 ]\n",
      "[ 7.11938687  3.6166844 ]\n"
     ]
    }
   ],
   "source": [
    "   def computeCentroids(X, idx, K):\n",
    "    m, n = X.shape\n",
    "    \n",
    "    centroids = np.zeros((K, n))\n",
    "    \n",
    "    for k in range(K):\n",
    "        centroids[k, :] = np.mean(X[idx.ravel() == k, :], axis=0)\n",
    "    \n",
    "    return centroids\n",
    "centroids = computeCentroids(X, idx, K)\n",
    "\n",
    "print('Centroids computed after initial finding of closest centroids: \\n')\n",
    "print(centroids)\n",
    "print('\\nThe centroids should be:\\n')\n",
    "print('[ 2.42830111  3.15792418 ]')\n",
    "print('[ 5.81350331  2.63365645 ]')\n",
    "print('[ 7.11938687  3.6166844 ]')"
   ]
  },
  {
   "cell_type": "markdown",
   "id": "ff22a32a",
   "metadata": {},
   "source": [
    "# K-means"
   ]
  },
  {
   "cell_type": "code",
   "execution_count": 8,
   "id": "4dc35927",
   "metadata": {},
   "outputs": [
    {
     "name": "stdout",
     "output_type": "stream",
     "text": [
      "K-Means iteration 0/10...\n",
      "K-Means iteration 1/10...\n",
      "K-Means iteration 2/10...\n",
      "K-Means iteration 3/10...\n",
      "K-Means iteration 4/10...\n",
      "K-Means iteration 5/10...\n",
      "K-Means iteration 6/10...\n",
      "K-Means iteration 7/10...\n",
      "K-Means iteration 8/10...\n",
      "K-Means iteration 9/10...\n",
      "\n",
      "K-Means Done.\n"
     ]
    },
    {
     "data": {
      "image/png": "[encoded data removed]",
      "text/plain": [
       "<Figure size 640x480 with 1 Axes>"
      ]
     },
     "metadata": {},
     "output_type": "display_data"
    }
   ],
   "source": [
    "def plotDataPoints(X, idx, K):\n",
    "    colors = [plt.cm.tab20(float(i) / 10) for i in idx]\n",
    "\n",
    "    plt.scatter(X[:,0], X[:,1], c=colors, alpha=0.5, s=2)\n",
    "\n",
    "def plotProgresskMeans(X, centroids, previous, idx, K, i):\n",
    "\n",
    "    plotDataPoints(X, idx, K)\n",
    "\n",
    "    plt.scatter(centroids[:,0], centroids[:,1],\n",
    "                marker='x', c='k', s=100, linewidth=1)\n",
    "\n",
    "    for j in range(centroids.shape[0]):\n",
    "        plt.plot([centroids[j, :][0], previous[j, :][0]],\n",
    "                 [centroids[j, :][1], previous[j, :][1]], c='k')\n",
    "    plt.title('Iteration number {:d}'.format(i+1))\n",
    "\n",
    "def runkMeans(X, initial_centroids, max_iters, plot_progress):\n",
    "    m, n = X.shape\n",
    "    K = initial_centroids.shape[0]\n",
    "    centroids = initial_centroids\n",
    "    previous_centroids = centroids\n",
    "    idx = np.zeros((m, 1))\n",
    "    plt.ion()\n",
    "    for i in range(max_iters):\n",
    "        print('K-Means iteration {}/{}...'.format(i, max_iters))\n",
    "        \n",
    "        idx = findClosestCentroids(X, centroids)\n",
    "        \n",
    "        if plot_progress:\n",
    "            plotProgresskMeans(X, centroids, previous_centroids, idx, K, i)\n",
    "            previous_centroids = centroids\n",
    "\n",
    "        centroids = computeCentroids(X, idx, K)\n",
    "\n",
    "    return centroids, idx\n",
    "\n",
    "K = 3\n",
    "max_iters = 10\n",
    "initial_centroids = np.array([[3, 3], [6, 2], [8, 5]])\n",
    "\n",
    "centroids, idx = runkMeans(X, initial_centroids, max_iters, plot_progress=True)\n",
    "print('\\nK-Means Done.')"
   ]
  },
  {
   "cell_type": "code",
   "execution_count": null,
   "id": "e69aa4e6",
   "metadata": {},
   "outputs": [],
   "source": []
  }
 ],
 "metadata": {
  "kernelspec": {
   "display_name": "Python 3 (ipykernel)",
   "language": "python",
   "name": "python3"
  },
  "language_info": {
   "codemirror_mode": {
    "name": "ipython",
    "version": 3
   },
   "file_extension": ".py",
   "mimetype": "text/x-python",
   "name": "python",
   "nbconvert_exporter": "python",
   "pygments_lexer": "ipython3",
   "version": "3.9.13"
  }
 },
 "nbformat": 4,
 "nbformat_minor": 5
}
